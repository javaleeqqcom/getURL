{
 "cells": [
  {
   "cell_type": "code",
   "execution_count": 1,
   "outputs": [],
   "source": [
    "import re\n",
    "import requests\n",
    "from bs4 import BeautifulSoup\n",
    "from tqdm import trange\n",
    "import time\n",
    "\n",
    "class 中文小说处理类:\n",
    "    from typing import List\n",
    "    def __init__(self):\n",
    "        self.中文句子=re.compile(\"(([\\u4E00-\\u9FFF，；：。！？“”]+[0-9\\.,?\\\"\\']{0,2})+)\")\n",
    "        self.HTML标签=re.compile(\"<[^<>]+>\")\n",
    "        self.非句号=\"[\\u4E00-\\u9FFF，；：0-9]\"\n",
    "        self.句号=\"[\\u4E00-\\u9FFF，；：。！？0-9]\"\n",
    "\n",
    "    def 提取中文段落(self,html代码:str)->List[str]:\n",
    "        fragments=re.split(self.HTML标签,html代码)\n",
    "        res=[]\n",
    "        for s in fragments:\n",
    "            s=re.search(self.中文句子,s)\n",
    "            if None!=s:\n",
    "                res.append(s.group(0))\n",
    "        return res"
   ],
   "metadata": {
    "collapsed": false,
    "pycharm": {
     "name": "#%%\n"
    }
   }
  },
  {
   "cell_type": "code",
   "execution_count": 2,
   "outputs": [],
   "source": [
    "# http_path=\"https://www.uukanshu.com/b/92/17638.html\"\n",
    "path = r\"./HTML/C1.html\"\n",
    "htmlfile = open(path, 'rb')\n",
    "htmlhandle = htmlfile.read()\n",
    "data = BeautifulSoup(htmlhandle, 'lxml')\n"
   ],
   "metadata": {
    "collapsed": false,
    "pycharm": {
     "name": "#%% 解析本地html文件\n"
    }
   }
  },
  {
   "cell_type": "code",
   "execution_count": 3,
   "outputs": [],
   "source": [
    "htmlfile.close()"
   ],
   "metadata": {
    "collapsed": false,
    "pycharm": {
     "name": "#%%\n"
    }
   }
  },
  {
   "cell_type": "code",
   "execution_count": 4,
   "outputs": [],
   "source": [
    "中文处理器=中文小说处理类()\n"
   ],
   "metadata": {
    "collapsed": false,
    "pycharm": {
     "name": "#%%\n"
    }
   }
  },
  {
   "cell_type": "code",
   "execution_count": 5,
   "outputs": [
    {
     "name": "stdout",
     "output_type": "stream",
     "text": [
      "<div class=\"zhengwen_box\" style=\"height: auto !important;\">\n",
      "<div class=\"box_left\" style=\"height: auto !important;\">\n",
      "<div class=\"w_main\" style=\"padding: 18px 8px; height: auto !important;\">\n",
      "<div class=\"h1title\">\n",
      "<h1 id=\"timu\">第1章 山边小村</h1>\n",
      "<span class=\"shuming\">小说：<a href=\"https://www.uukanshu.com/b/92/\" title=\"凡人修仙传\">凡人修仙传</a> </span>\n",
      "<span class=\"author\">作者：忘语</span>\n",
      "</div>\n",
      "<div class=\"contentbox\">\n",
      "<div class=\"uu_cont\" id=\"contentbox\">\n",
      "<div class=\"ad_content\">\n",
      "<!-- 桌面内容顶部 -->\n",
      "<ins class=\"adsbygoogle\" data-ad-client=\"ca-pub-7553981642580305\" data-ad-region=\"top\" data-ad-slot=\"3080294895\" data-ad-status=\"filled\" data-adsbygoogle-status=\"done\" style=\"display:inline-block;width:336px;height:280px\"><ins aria-label=\"Advertisement\" id=\"aswift_2_expand\" style=\"display:inline-table;border:none;height:280px;margin:0;padding:0;position:relative;visibility:visible;width:336px;background-color:transparent;\" tabindex=\"0\" title=\"Advertisement\"><ins id=\"aswift_2_anchor\" style=\"display:block;border:none;height:280px;margin:0;padding:0;position:relative;visibility:visible;width:336px;background-color:transparent;\"><iframe allowfullscreen=\"true\" allowtransparency=\"true\" data-google-container-id=\"a!3\" data-google-query-id=\"CLW9ifizzvICFQgDXAodXA0DkA\" data-load-complete=\"true\" frameborder=\"0\" height=\"280\" hspace=\"0\" id=\"aswift_2\" marginheight=\"0\" marginwidth=\"0\" name=\"aswift_2\" sandbox=\"allow-forms allow-popups allow-popups-to-escape-sandbox allow-same-origin allow-scripts allow-top-navigation-by-user-activation\" scrolling=\"no\" src=\"./C1_files/ads(1).html\" style=\"left:0;position:absolute;top:0;border:0;width:336px;height:280px;\" vspace=\"0\" width=\"336\"></iframe></ins></ins></ins>\n",
      "<script>\n",
      "                    (adsbygoogle = window.adsbygoogle || []).push({});\n",
      "                </script>\n",
      "</div>\n",
      "            二愣子睁大着双眼，直直望着茅草和烂泥糊成的黑屋顶，身上盖着的旧棉被，已呈深黄色，看不出原来的本来面目，还若有若无的散发着淡淡的霉味。<p>　　在他身边紧挨着的另一人，是二哥韩铸，酣睡的十分香甜，从他身上不时传来轻重不一的阵阵打呼声。</p><p>　　离床大约半丈远的地方，是一堵黄泥糊成的土墙，因为时间过久，墙壁上裂开了几丝不起眼的细长口子，从这些裂纹中，隐隐约约的传来韩母唠唠叨叨的埋怨声，偶尔还掺杂着韩父，抽旱烟杆的“啪嗒”“啪嗒”吸允声。</p><p>　　二愣子缓缓的闭上已有些发涩的双目，迫使自己尽早进入深深的睡梦中。他心里非常清楚，再不老实入睡的话，明天就无法早起些了，也就无法和其他约好的同伴一起进山拣干柴。</p><p>　　二愣子姓韩名立，这么像模像样的名字,他父母可起不出来，这是他父亲用两个粗粮制成的窝头，求村里老张叔给起的名字。</p><p>　　老张叔年轻时，曾经跟城里的有钱人当过几年的伴读书童，是村里唯一认识几个字的读书人，村里小孩子的名字，倒有一多半是他给起的。</p><p>　　韩立被村里人叫作“二愣子”，可人并不是真愣真傻，反而是村中首屈一指的聪明孩子，但就像其他村中的孩子一样，除了家里人外，他就很少听到有人正式叫他名字“韩立”，倒是“二愣子”“二愣子”的称呼一直伴随至今。</p><p>　　而之所以被人起了个“二愣子”的绰号，也只不过是因为村里已有一个叫“愣子”的孩子了。</p><p>　　这也没啥，村里的其他孩子也是“狗娃”“二蛋”之类的被人一直称呼着，这些名字也不见得比“二愣子”好听了哪里去。</p><p>　　因此，韩立虽然并不喜欢这个称呼，但也只能这样一直的自我安慰着。</p><p>　　韩立外表长得很不起眼，皮肤黑黑的，就是一个普通的农家小孩模样。但他的内心深处，却比同龄人早熟了许多，他从小就向往外面世界的富饶繁华，梦想有一天，他能走出这个巴掌大的村子，去看看老张叔经常所说的外面世界。</p><p>　　当韩立的这个想法，一直没敢和其他人说起过。否则，一定会使村里人感到愕然，一个乳臭未干的小屁孩，竟然会有这么一个大人也不敢轻易想的念头。要知道，其他同韩立差不多大的小孩，都还只会满村的追鸡摸狗，更别说会有离开故土，这么一个古怪的念头。</p><p>　　韩立一家七口人，有两个兄长，一个姐姐，还有一个小妹，他在家里排行老四，今年刚十岁，家里的生活很清苦，一年也吃不上几顿带荤腥的饭菜，全家人一直在温饱线上徘徊着。</p><p>　　此时的韩立，正处于迷迷糊糊，似睡未睡之间，恼中还一直残留着这样的念头：上山时，一定要帮他最疼爱的妹妹，多拣些她最喜欢吃的红浆果。</p><p>　　第二天中午时分，当韩立顶着火辣辣的太阳，背着半人高的木柴堆，怀里还揣着满满一布袋浆果，从山里往家里赶的时侯，并不知道家中已来了一位，会改变他一生命运的客人。</p><p>　　这位贵客，是跟他血缘很近的一位至亲，他的亲三叔。</p><p>　　听说，在附近一个小城的酒楼，给人当大掌柜，是他父母口中的大能人。韩家近百年来，可能就出了三叔这么一位有点身份的亲戚。</p><p>　　韩立只在很小的时侯，见过这位三叔几次。他大哥在城里给一位老铁匠当学徒的工作，就是这位三叔给介绍的，这位三叔还经常托人给他父母捎带一些吃的用的东西，</p><div class=\"ad_content\"><!-- 桌面内容中间2 -->\n",
      "<ins class=\"adsbygoogle\" data-ad-client=\"ca-pub-7553981642580305\" data-ad-region=\"cont_mid\" data-ad-slot=\"4557028097\" data-ad-status=\"filled\" data-adsbygoogle-status=\"done\" style=\"display:inline-block;width:336px;height:280px\"><ins aria-label=\"Advertisement\" id=\"aswift_3_expand\" style=\"display:inline-table;border:none;height:280px;margin:0;padding:0;position:relative;visibility:visible;width:336px;background-color:transparent;\" tabindex=\"0\" title=\"Advertisement\"><ins id=\"aswift_3_anchor\" style=\"display:block;border:none;height:280px;margin:0;padding:0;position:relative;visibility:visible;width:336px;background-color:transparent;\"><iframe allowfullscreen=\"true\" allowtransparency=\"true\" data-google-container-id=\"a!4\" data-google-query-id=\"CILXkPizzvICFQgDXAodXA0DkA\" data-load-complete=\"true\" frameborder=\"0\" height=\"280\" hspace=\"0\" id=\"aswift_3\" marginheight=\"0\" marginwidth=\"0\" name=\"aswift_3\" sandbox=\"allow-forms allow-popups allow-popups-to-escape-sandbox allow-same-origin allow-scripts allow-top-navigation-by-user-activation\" scrolling=\"no\" src=\"./C1_files/ads(2).html\" style=\"left:0;position:absolute;top:0;border:0;width:336px;height:280px;\" vspace=\"0\" width=\"336\"></iframe></ins></ins></ins>\n",
      "<script>\n",
      "(adsbygoogle = window.adsbygoogle || []).push({});\n",
      "</script>\n",
      "</div>很是照顾他们一家，因此韩立对这位三叔的印像也很好，知道父母虽然嘴里不说，心里也是很感激的。<p>　　大哥可是一家人的骄傲，听说当铁匠的学徒，不但管吃管住，一个月还有三十个铜板拿，等到正式出师被人雇用时，挣的钱可就更多了。</p><p>　　每当父母一提起大哥，就神采飞扬，像换了一个人一样。韩立年龄虽小，也羡慕不已，心目最好的工作也早早就有了，就是给小城里的哪位手艺师傅看上，收做学徒，从此变成靠手艺吃饭的体面人。</p><p>　　所以当韩立见到穿着一身崭新的缎子衣服，胖胖的圆脸，留着一撮小胡子的三叔时，心里兴奋极了。</p><p>　　把木柴在屋后放好后，便到前屋腼腆的给三叔见了个礼，乖乖的叫了声：“三叔好”，就老老实实的站在一边，听父母同三叔聊天。</p><p>　　三叔笑眯眯的望着韩立，打量着他一番，嘴里夸了他几句“听话”“懂事”之类的话，然后就转过头，和他父母说起这次的来意。</p><p>　　韩立虽然年龄尚小，不能完全听懂三叔的话，但也听明白了大概的意思。</p><p>　　原来三叔工作的酒楼，属于一个叫“七玄门”的江湖门派所有，这个门派有外门和内门之分，而前不久，三叔才正式成为了这个门派的外门弟子，能够推举7岁到12岁的孩童去参加七玄门招收内门弟子的考验。</p><p>　　五年一次的“七玄门”招收内门弟子测试，下个月就要开始了。这位有着几分精明劲自己尚无子女的三叔，自然想到了适龄的韩立。</p><p>　　一向老实巴交的韩父，听到“江湖”“门派”之类的从未听闻过的话，心里有些犹豫不决拿不定主意。便一把拿起旱烟杆，“吧嗒”“吧嗒”的狠狠抽了几口，就坐在那里，一声不吭。</p><p>　　在三叔嘴里，“七玄门”自然是这方圆数百里内，了不起的、数一数二的大门派。ＵU看书 www.uukanshu.com</p><p>　　只要成为内门弟子，不但以后可以免费习武吃喝不愁，每月还能有一两多的散银子零花。而且参加考验的人，即使未能入选也有机会成为像三叔一样的外门人员，专门替“七玄门”打理门外的生意。</p><p>　　当听到有可能每月有一两银子可拿，还有机会成为和三叔一样的体面人，韩父终于拿定了主意，答应了下来。</p><p>　　三叔见到韩父应承了下来，心里很是高兴。又留下几两银子，说一个月后就来带韩立走，在这期间给韩立多做点好吃的，给他补补身子，好应付考验。随后三叔和韩父打声招呼，摸了摸韩立的头，出门回城了。</p><p>　　韩立虽然不全明白三叔所说的话，但可以进城能挣大钱还是明白的。</p><p>　　一直以来的愿望，眼看就有可能实现，他一连好几个晚上兴奋的睡不着觉。</p><p>　　三叔在一个多月后，准时的来到村中，要带韩立走了，临走前韩父反复嘱咐韩立，做人要老实，遇事要忍让，别和其他人起争执，而韩母则要他多注意身体，要吃好睡好。</p><p>　　在马车上，看着父母渐渐远去的身影，韩立咬紧了嘴唇，强忍着不让自己眼框中的泪珠流出来。</p><p>　　他虽然从小就比其他孩子成熟的多，但毕竟还是个十岁的小孩，第一次出远门让他的心里有点伤感和彷徨。他年幼的心里暗暗下定了决心，等挣到了大钱就马上赶回来，和父母再也不分开。</p><p>　　韩立从未想到，此次出去后钱财的多少对他已失去了意义，他竟然走上了一条与凡人不同的仙业大道，走出了自己的修仙之路。 \n",
      "        </p></div>\n",
      "<br/><br/><br/>\n",
      "<div style=\"margin:0px;\">\n",
      "        如果喜欢《凡人修仙传》，请把网址发给您的朋友。<br/>收藏本页请按  Ctrl + D，为方便下次阅读也可把本书<a href=\"https://www.uukanshu.com/desktop.ashx?url=https%3a%2f%2fwww.uukanshu.com%2fb%2f92%2f%23desktop&amp;title=%b7%b2%c8%cb%d0%de%cf%c9%b4%ab\" rel=\"nofollow\" style=\"color:Red\" target=\"_blank\">添加到桌面</a>，添加桌面请猛击<a href=\"https://www.uukanshu.com/desktop.ashx?url=https%3a%2f%2fwww.uukanshu.com%2fb%2f92%2f%23desktop&amp;title=%b7%b2%c8%cb%d0%de%cf%c9%b4%ab\" rel=\"nofollow\" style=\"color:Red\" target=\"_blank\">这里</a>。\n",
      "        <br/>\n",
      "        添加<a href=\"javascript:void(0)\" onclick=\"javascript:return addNotice();\" style=\"color:Red\">更新提醒</a>，有最新章节时，将会发送邮件到您的邮箱。\n",
      "        <br/><br/>\n",
      "</div>\n",
      "</div>\n",
      "<div class=\"fanye\" style=\"height: auto !important;\"><!---翻页--->\n",
      "<div class=\"artAd\">\n",
      "<!-- uuheng -->\n",
      "<ins class=\"adsbygoogle\" data-ad-client=\"ca-pub-7553981642580305\" data-ad-format=\"auto\" data-ad-slot=\"7018002490\" data-ad-status=\"filled\" data-adsbygoogle-status=\"done\" style=\"display: block; height: 350px;\"><ins aria-label=\"Advertisement\" id=\"aswift_4_expand\" style=\"display: inline-table; border: none; height: 350px; margin: 0px; padding: 0px; position: relative; visibility: visible; width: 723px; background-color: transparent;\" tabindex=\"0\" title=\"Advertisement\"><ins id=\"aswift_4_anchor\" style=\"display: block; border: none; height: 350px; margin: 0px; padding: 0px; position: relative; visibility: visible; width: 723px; background-color: transparent; overflow: hidden;\"><iframe allowfullscreen=\"true\" allowtransparency=\"true\" data-google-container-id=\"a!5\" data-google-query-id=\"CKqtlPizzvICFYkkvAodYkQLaw\" data-load-complete=\"true\" frameborder=\"0\" height=\"350\" hspace=\"0\" id=\"aswift_4\" marginheight=\"0\" marginwidth=\"0\" name=\"aswift_4\" sandbox=\"allow-forms allow-popups allow-popups-to-escape-sandbox allow-same-origin allow-scripts allow-top-navigation-by-user-activation\" scrolling=\"no\" src=\"./C1_files/ads(3).html\" style=\"left: 0px; position: absolute; top: 0px; border: 0px; width: 723px; height: 350px;\" vspace=\"0\" width=\"723\"></iframe></ins></ins></ins>\n",
      "<script>\n",
      "                        (adsbygoogle = window.adsbygoogle || []).push({});\n",
      "                    </script>\n",
      "</div>\n",
      "<div class=\"fanye_cen\">\n",
      "<span>\n",
      "                  \n",
      "                    <a href=\"https://www.uukanshu.com/b/92/\" id=\"htmlmulu\" title=\"凡人修仙传目录\">目录</a> |\n",
      "                    <a href=\"javascript:void(0)\" id=\"addsj\" onclick=\"javascript:return addShujia();\">加入书架</a> |\n",
      "                    <a href=\"javascript:void(0)\" id=\"addNotice\" onclick=\"javascript:return addNotice();\" style=\"color:Red\" title=\"当有最新章节更新时，系统将第一时间发送邮件通知您\">更新提醒</a> |\n",
      "\t\t        </span>\n",
      "<a href=\"https://www.uukanshu.com/b/92/17639.html\" id=\"next\" style=\"width:500px\" title=\"凡人修仙传\">下一章</a>\n",
      "</div><div class=\"tips\" style=\"margin-bottom:20px;\">快捷键：上一章（←） 下一章（→）</div>\n",
      "</div>\n",
      "<div style=\"margin-top:30px;\">\n",
      "<!-- 匹配内容_桌面 -->\n",
      "<ins class=\"adsbygoogle\" data-ad-client=\"ca-pub-7553981642580305\" data-ad-format=\"autorelaxed\" data-ad-slot=\"1677613695\" data-ad-status=\"unfilled\" data-adsbygoogle-status=\"done\" style=\"display: block; height: 0px;\"><ins aria-label=\"Advertisement\" id=\"aswift_5_expand\" style=\"display: inline-table; border: none; height: 0px; margin: 0px; padding: 0px; position: relative; visibility: visible; width: 723px; background-color: transparent;\" tabindex=\"0\" title=\"Advertisement\"><ins id=\"aswift_5_anchor\" style=\"display: block; border: none; height: 0px; margin: 0px; padding: 0px; position: relative; visibility: visible; width: 723px; background-color: transparent; overflow: hidden; opacity: 0;\"><iframe allowfullscreen=\"true\" allowtransparency=\"true\" data-google-container-id=\"a!6\" data-google-query-id=\"CIS_2f2zzvICFVYEXAodhJYMsg\" data-load-complete=\"true\" frameborder=\"0\" height=\"0\" hspace=\"0\" id=\"aswift_5\" marginheight=\"0\" marginwidth=\"0\" name=\"aswift_5\" sandbox=\"allow-forms allow-popups allow-popups-to-escape-sandbox allow-same-origin allow-scripts allow-top-navigation-by-user-activation\" scrolling=\"no\" src=\"./C1_files/ads(4).html\" style=\"left: 0px; position: absolute; top: 0px; border: 0px; width: 723px; height: 0px;\" vspace=\"0\" width=\"723\"></iframe></ins></ins></ins>\n",
      "<script>\n",
      "                      (adsbygoogle = window.adsbygoogle || []).push({});\n",
      "        </script>\n",
      "</div>\n",
      "<div class=\"hot-recommend\">热门推荐：<a href=\"https://www.uukanshu.com/b/171276/\" title=\"暴君的娇养黑莲花总想逃\">暴君的娇养黑莲花总想逃</a><a href=\"https://www.uukanshu.com/b/47104/\" title=\"圣墟\">圣墟</a><a href=\"https://www.uukanshu.com/b/75930/\" title=\"大医凌然\">大医凌然</a><a href=\"https://www.uukanshu.com/b/77259/\" title=\"我有一座恐怖屋\">我有一座恐怖屋</a><a href=\"https://www.uukanshu.com/b/54532/\" title=\"道君\">道君</a><a href=\"https://www.uukanshu.com/b/74534/\" title=\"诡秘之主\">诡秘之主</a><a href=\"https://www.uukanshu.com/b/76587/\" title=\"全球高武\">全球高武</a><a href=\"https://www.uukanshu.com/b/69778/\" title=\"凡人修仙之仙界篇\">凡人修仙之仙界篇</a><a href=\"https://www.uukanshu.com/b/33684/\" title=\"我从凡间来\">我从凡间来</a><a href=\"https://www.uukanshu.com/b/85437/\" title=\"英雄联盟：我的时代\">英雄联盟：我的时代</a></div>\n",
      "<div class=\"w_main cont_tuijian\">\n",
      "<ul>\n",
      "<li><a href=\"https://www.uukanshu.com/b/142/\" target=\"_blank\" title=\"传剑\">传剑</a></li>\n",
      "<li><a href=\"https://www.uukanshu.com/b/134/\" target=\"_blank\" title=\"修真世界\">修真世界</a></li>\n",
      "<li><a href=\"https://www.uukanshu.com/b/128/\" target=\"_blank\" title=\"易筋经\">易筋经</a></li>\n",
      "<li><a href=\"https://www.uukanshu.com/b/108/\" target=\"_blank\" title=\"上古戒灵\">上古戒灵</a></li>\n",
      "<li><a href=\"https://www.uukanshu.com/b/99/\" target=\"_blank\" title=\"梦游聊斋\">梦游聊斋</a></li>\n",
      "<li><a href=\"https://www.uukanshu.com/b/88/\" target=\"_blank\" title=\"地球最后一个修仙者\">地球最后一个修仙者</a></li>\n",
      "<li><a href=\"https://www.uukanshu.com/b/83/\" target=\"_blank\" title=\"霸天武圣\">霸天武圣</a></li>\n",
      "<li><a href=\"https://www.uukanshu.com/b/80/\" target=\"_blank\" title=\"洪荒之我乃冥河\">洪荒之我乃冥河</a></li>\n",
      "<li><a href=\"https://www.uukanshu.com/b/60/\" target=\"_blank\" title=\"仙山\">仙山</a></li>\n",
      "<li><a href=\"https://www.uukanshu.com/b/44/\" target=\"_blank\" title=\"遮天\">遮天</a></li>\n",
      "<li><a href=\"https://www.uukanshu.com/b/41/\" target=\"_blank\" title=\"求魔\">求魔</a></li>\n",
      "<li><a href=\"https://www.uukanshu.com/b/40/\" target=\"_blank\" title=\"纯阳\">纯阳</a></li>\n",
      "<li><a href=\"https://www.uukanshu.com/b/21/\" target=\"_blank\" title=\"洪荒之灵吉菩萨\">洪荒之灵吉菩萨</a></li>\n",
      "<li><a href=\"https://www.uukanshu.com/b/4/\" target=\"_blank\" title=\"锻仙\">锻仙</a></li>\n",
      "<li><a href=\"https://www.uukanshu.com/b/2/\" target=\"_blank\" title=\"万界永仙\">万界永仙</a></li>\n",
      "<li><a href=\"https://www.uukanshu.com/b/1/\" target=\"_blank\" title=\"周天仙帝\">周天仙帝</a></li>\n",
      "</ul>\n",
      "</div>\n",
      "</div>\n",
      "<div style=\"clear:both; font-size:14px;border-top:1px dotted #999999;width:98%; padding:10px 0px; margin-top:10px; margin-left:8px;\">\n",
      "<div class=\"xiaoshuo_shuoming\" style=\"font-size:12px;text-align: left;\">\n",
      "        作者忘语所写的《凡人修仙传》为转载作品，凡人修仙传最新章节由网友发布。<br/>\n",
      "①如果您发现本小说凡人修仙传最新章节，而UU看书没有更新，请联系我们更新，您的热心是对网站最大的支持。<br/>\n",
      "②书友如发现凡人修仙传内容有与法律抵触之处，请向本站举报，我们将马上处理。<br/>\n",
      "③本小说凡人修仙传仅代表作者个人的观点，与UU看书的立场无关。<br/>\n",
      "④如果您对凡人修仙传作品内容、版权等方面有质疑，或对本站有意见建议请发邮件给管理员，我们将第一时间作出相应处理。\n",
      "        </div>\n",
      "<div class=\"copyright\" style=\"margin-top:20px;\">\n",
      "<br/>Copyright © <script type=\"text/javascript\">                               myDate = new Date(); myYear = myDate.getFullYear(); document.write(myYear);</script>2021  <a href=\"https://www.uukanshu.com/\">UU看书</a>(www.uukanshu.com) All Rights Reserved.<br/>联系邮箱：uukanshu#gmail.com(#换成@)</div>\n",
      "</div>\n",
      "</div>\n",
      "<!--右侧广告-->\n",
      "<div class=\"box_right\">\n",
      "<div class=\"paihang\">\n",
      "<ul>\n",
      "<li class=\"phtit\">同类小说点击周榜：</li>\n",
      "<li><a href=\"https://www.uukanshu.com/b/128714/\" target=\"_blank\" title=\"大奉打更人\">《大奉打更人》</a></li>\n",
      "<li><a href=\"https://www.uukanshu.com/b/156437/\" target=\"_blank\" title=\"顶级气运，悄悄修炼千年\">《顶级气运，悄悄修炼千年》</a></li>\n",
      "<li><a href=\"https://www.uukanshu.com/b/92/\" target=\"_blank\" title=\"凡人修仙传\">《凡人修仙传》</a></li>\n",
      "<li><a href=\"https://www.uukanshu.com/b/158246/\" target=\"_blank\" title=\"我只想安静的做个苟道中人\">《我只想安静的做个苟道中人》</a></li>\n",
      "<li><a href=\"https://www.uukanshu.com/b/41496/\" target=\"_blank\" title=\"一念永恒\">《一念永恒》</a></li>\n",
      "<li><a href=\"https://www.uukanshu.com/b/114911/\" target=\"_blank\" title=\"赤心巡天\">《赤心巡天》</a></li>\n",
      "<li><a href=\"https://www.uukanshu.com/b/114416/\" target=\"_blank\" title=\"我师兄实在太稳健了\">《我师兄实在太稳健了》</a></li>\n",
      "<li><a href=\"https://www.uukanshu.com/b/69778/\" target=\"_blank\" title=\"凡人修仙之仙界篇\">《凡人修仙之仙界篇》</a></li>\n",
      "<li><a href=\"https://www.uukanshu.com/b/133699/\" target=\"_blank\" title=\"大梦主\">《大梦主》</a></li>\n",
      "<li><a href=\"https://www.uukanshu.com/b/65683/\" target=\"_blank\" title=\"最强反套路系统\">《最强反套路系统》</a></li>\n",
      "</ul>\n",
      "<ul>\n",
      "<li class=\"phtit\">同类小说点击总榜：</li>\n",
      "<li><a href=\"https://www.uukanshu.com/b/92/\" target=\"_blank\" title=\"凡人修仙传\">《凡人修仙传》</a></li>\n",
      "<li><a href=\"https://www.uukanshu.com/b/128714/\" target=\"_blank\" title=\"大奉打更人\">《大奉打更人》</a></li>\n",
      "<li><a href=\"https://www.uukanshu.com/b/114416/\" target=\"_blank\" title=\"我师兄实在太稳健了\">《我师兄实在太稳健了》</a></li>\n",
      "<li><a href=\"https://www.uukanshu.com/b/69778/\" target=\"_blank\" title=\"凡人修仙之仙界篇\">《凡人修仙之仙界篇》</a></li>\n",
      "<li><a href=\"https://www.uukanshu.com/b/41496/\" target=\"_blank\" title=\"一念永恒\">《一念永恒》</a></li>\n",
      "<li><a href=\"https://www.uukanshu.com/b/65683/\" target=\"_blank\" title=\"最强反套路系统\">《最强反套路系统》</a></li>\n",
      "<li><a href=\"https://www.uukanshu.com/b/41524/\" target=\"_blank\" title=\"最强反派系统\">《最强反派系统》</a></li>\n",
      "<li><a href=\"https://www.uukanshu.com/b/54532/\" target=\"_blank\" title=\"道君\">《道君》</a></li>\n",
      "<li><a href=\"https://www.uukanshu.com/b/53310/\" target=\"_blank\" title=\"最强神话帝皇\">《最强神话帝皇》</a></li>\n",
      "<li><a href=\"https://www.uukanshu.com/b/86121/\" target=\"_blank\" title=\"剑徒之路\">《剑徒之路》</a></li>\n",
      "</ul>\n",
      "</div>\n",
      "<div class=\"paihang\">\n",
      "<ul>\n",
      "<li class=\"phtit\">全本小说点击总榜：</li>\n",
      "<li><a href=\"https://www.uukanshu.com/b/37166/\" target=\"_blank\" title=\"通天武尊\">《通天武尊》</a></li>\n",
      "<li><a href=\"https://www.uukanshu.com/b/33933/\" target=\"_blank\" title=\"修真聊天群\">《修真聊天群》</a></li>\n",
      "<li><a href=\"https://www.uukanshu.com/b/84471/\" target=\"_blank\" title=\"手术直播间\">《手术直播间》</a></li>\n",
      "<li><a href=\"https://www.uukanshu.com/b/92/\" target=\"_blank\" title=\"凡人修仙传\">《凡人修仙传》</a></li>\n",
      "<li><a href=\"https://www.uukanshu.com/b/75780/\" target=\"_blank\" title=\"明朝败家子\">《明朝败家子》</a></li>\n",
      "<li><a href=\"https://www.uukanshu.com/b/83895/\" target=\"_blank\" title=\"九星毒奶\">《九星毒奶》</a></li>\n",
      "<li><a href=\"https://www.uukanshu.com/b/68549/\" target=\"_blank\" title=\"都市超级医仙\">《都市超级医仙》</a></li>\n",
      "<li><a href=\"https://www.uukanshu.com/b/49621/\" target=\"_blank\" title=\"神级大魔头\">《神级大魔头》</a></li>\n",
      "<li><a href=\"https://www.uukanshu.com/b/65713/\" target=\"_blank\" title=\"大王饶命\">《大王饶命》</a></li>\n",
      "<li><a href=\"https://www.uukanshu.com/b/86613/\" target=\"_blank\" title=\"斗罗大陆IV终极斗罗\">《斗罗大陆IV终极斗罗》</a></li>\n",
      "</ul>\n",
      "<ul>\n",
      "<li class=\"phtit\">新书入库：</li>\n",
      "<li><a href=\"https://www.uukanshu.com/b/173543/\" target=\"_blank\" title=\"刺激与生存：未来探险时代\">《刺激与生存：未来探险时代》</a></li>\n",
      "<li><a href=\"https://www.uukanshu.com/b/173542/\" target=\"_blank\" title=\"生存游戏：从一只乌鸦开始\">《生存游戏：从一只乌鸦开始》</a></li>\n",
      "<li><a href=\"https://www.uukanshu.com/b/173541/\" target=\"_blank\" title=\"我想有家小卖铺\">《我想有家小卖铺》</a></li>\n",
      "<li><a href=\"https://www.uukanshu.com/b/173540/\" target=\"_blank\" title=\"逆袭之超级富豪\">《逆袭之超级富豪》</a></li>\n",
      "<li><a href=\"https://www.uukanshu.com/b/173539/\" target=\"_blank\" title=\"龙族之窃取神权\">《龙族之窃取神权》</a></li>\n",
      "<li><a href=\"https://www.uukanshu.com/b/173538/\" target=\"_blank\" title=\"精灵之毒系大师\">《精灵之毒系大师》</a></li>\n",
      "<li><a href=\"https://www.uukanshu.com/b/173537/\" target=\"_blank\" title=\"我被妖魔圈养了\">《我被妖魔圈养了》</a></li>\n",
      "<li><a href=\"https://www.uukanshu.com/b/173536/\" target=\"_blank\" title=\"我爱基建\">《我爱基建》</a></li>\n",
      "<li><a href=\"https://www.uukanshu.com/b/173535/\" target=\"_blank\" title=\"神灭仙逝\">《神灭仙逝》</a></li>\n",
      "<li><a href=\"https://www.uukanshu.com/b/173534/\" target=\"_blank\" title=\"外神，我的命魂\">《外神，我的命魂》</a></li>\n",
      "</ul>\n",
      "</div>\n",
      "</div>\n",
      "</div>\n"
     ]
    }
   ],
   "source": [
    "content = data.find_all(\"div\",class_=\"zhengwen_box\")\n",
    "content=content[0]\n",
    "print(content)"
   ],
   "metadata": {
    "collapsed": false,
    "pycharm": {
     "name": "#%% 获取内容\n"
    }
   }
  },
  {
   "cell_type": "code",
   "execution_count": 6,
   "outputs": [
    {
     "name": "stdout",
     "output_type": "stream",
     "text": [
      "第1章 山边小村\n",
      "作者：忘语\n"
     ]
    }
   ],
   "source": [
    "title_div = content.find(class_=\"h1title\")\n",
    "title=title_div.find(id=\"timu\")\n",
    "print(title.text)\n",
    "author=title_div.find(class_=\"author\")\n",
    "print(author.text)"
   ],
   "metadata": {
    "collapsed": false,
    "pycharm": {
     "name": "#%% 获取标题\n"
    }
   }
  },
  {
   "cell_type": "code",
   "execution_count": 7,
   "outputs": [
    {
     "name": "stdout",
     "output_type": "stream",
     "text": [
      "二愣子睁大着双眼，直直望着茅草和烂泥糊成的黑屋顶，身上盖着的旧棉被，已呈深黄色，看不出原来的本来面目，还若有若无的散发着淡淡的霉味。\n",
      "在他身边紧挨着的另一人，是二哥韩铸，酣睡的十分香甜，从他身上不时传来轻重不一的阵阵打呼声。\n",
      "离床大约半丈远的地方，是一堵黄泥糊成的土墙，因为时间过久，墙壁上裂开了几丝不起眼的细长口子，从这些裂纹中，隐隐约约的传来韩母唠唠叨叨的埋怨声，偶尔还掺杂着韩父，抽旱烟杆的“啪嗒”“啪嗒”吸允声。\n",
      "二愣子缓缓的闭上已有些发涩的双目，迫使自己尽早进入深深的睡梦中。他心里非常清楚，再不老实入睡的话，明天就无法早起些了，也就无法和其他约好的同伴一起进山拣干柴。\n",
      "二愣子姓韩名立，这么像模像样的名字,他父母可起不出来，这是他父亲用两个粗粮制成的窝头，求村里老张叔给起的名字。\n",
      "老张叔年轻时，曾经跟城里的有钱人当过几年的伴读书童，是村里唯一认识几个字的读书人，村里小孩子的名字，倒有一多半是他给起的。\n",
      "韩立被村里人叫作“二愣子”，可人并不是真愣真傻，反而是村中首屈一指的聪明孩子，但就像其他村中的孩子一样，除了家里人外，他就很少听到有人正式叫他名字“韩立”，倒是“二愣子”“二愣子”的称呼一直伴随至今。\n",
      "而之所以被人起了个“二愣子”的绰号，也只不过是因为村里已有一个叫“愣子”的孩子了。\n",
      "这也没啥，村里的其他孩子也是“狗娃”“二蛋”之类的被人一直称呼着，这些名字也不见得比“二愣子”好听了哪里去。\n",
      "因此，韩立虽然并不喜欢这个称呼，但也只能这样一直的自我安慰着。\n",
      "韩立外表长得很不起眼，皮肤黑黑的，就是一个普通的农家小孩模样。但他的内心深处，却比同龄人早熟了许多，他从小就向往外面世界的富饶繁华，梦想有一天，他能走出这个巴掌大的村子，去看看老张叔经常所说的外面世界。\n",
      "当韩立的这个想法，一直没敢和其他人说起过。否则，一定会使村里人感到愕然，一个乳臭未干的小屁孩，竟然会有这么一个大人也不敢轻易想的念头。要知道，其他同韩立差不多大的小孩，都还只会满村的追鸡摸狗，更别说会有离开故土，这么一个古怪的念头。\n",
      "韩立一家七口人，有两个兄长，一个姐姐，还有一个小妹，他在家里排行老四，今年刚十岁，家里的生活很清苦，一年也吃不上几顿带荤腥的饭菜，全家人一直在温饱线上徘徊着。\n",
      "此时的韩立，正处于迷迷糊糊，似睡未睡之间，恼中还一直残留着这样的念头：上山时，一定要帮他最疼爱的妹妹，多拣些她最喜欢吃的红浆果。\n",
      "第二天中午时分，当韩立顶着火辣辣的太阳，背着半人高的木柴堆，怀里还揣着满满一布袋浆果，从山里往家里赶的时侯，并不知道家中已来了一位，会改变他一生命运的客人。\n",
      "这位贵客，是跟他血缘很近的一位至亲，他的亲三叔。\n",
      "听说，在附近一个小城的酒楼，给人当大掌柜，是他父母口中的大能人。韩家近百年来，可能就出了三叔这么一位有点身份的亲戚。\n",
      "韩立只在很小的时侯，见过这位三叔几次。他大哥在城里给一位老铁匠当学徒的工作，就是这位三叔给介绍的，这位三叔还经常托人给他父母捎带一些吃的用的东西，\n",
      "很是照顾他们一家，因此韩立对这位三叔的印像也很好，知道父母虽然嘴里不说，心里也是很感激的。\n",
      "大哥可是一家人的骄傲，听说当铁匠的学徒，不但管吃管住，一个月还有三十个铜板拿，等到正式出师被人雇用时，挣的钱可就更多了。\n",
      "每当父母一提起大哥，就神采飞扬，像换了一个人一样。韩立年龄虽小，也羡慕不已，心目最好的工作也早早就有了，就是给小城里的哪位手艺师傅看上，收做学徒，从此变成靠手艺吃饭的体面人。\n",
      "所以当韩立见到穿着一身崭新的缎子衣服，胖胖的圆脸，留着一撮小胡子的三叔时，心里兴奋极了。\n",
      "把木柴在屋后放好后，便到前屋腼腆的给三叔见了个礼，乖乖的叫了声：“三叔好”，就老老实实的站在一边，听父母同三叔聊天。\n",
      "三叔笑眯眯的望着韩立，打量着他一番，嘴里夸了他几句“听话”“懂事”之类的话，然后就转过头，和他父母说起这次的来意。\n",
      "韩立虽然年龄尚小，不能完全听懂三叔的话，但也听明白了大概的意思。\n",
      "原来三叔工作的酒楼，属于一个叫“七玄门”的江湖门派所有，这个门派有外门和内门之分，而前不久，三叔才正式成为了这个门派的外门弟子，能够推举7岁到12岁的孩童去参加七玄门招收内门弟子的考验。\n",
      "五年一次的“七玄门”招收内门弟子测试，下个月就要开始了。这位有着几分精明劲自己尚无子女的三叔，自然想到了适龄的韩立。\n",
      "一向老实巴交的韩父，听到“江湖”“门派”之类的从未听闻过的话，心里有些犹豫不决拿不定主意。便一把拿起旱烟杆，“吧嗒”“吧嗒”的狠狠抽了几口，就坐在那里，一声不吭。\n",
      "在三叔嘴里，“七玄门”自然是这方圆数百里内，了不起的\n",
      "只要成为内门弟子，不但以后可以免费习武吃喝不愁，每月还能有一两多的散银子零花。而且参加考验的人，即使未能入选也有机会成为像三叔一样的外门人员，专门替“七玄门”打理门外的生意。\n",
      "当听到有可能每月有一两银子可拿，还有机会成为和三叔一样的体面人，韩父终于拿定了主意，答应了下来。\n",
      "三叔见到韩父应承了下来，心里很是高兴。又留下几两银子，说一个月后就来带韩立走，在这期间给韩立多做点好吃的，给他补补身子，好应付考验。随后三叔和韩父打声招呼，摸了摸韩立的头，出门回城了。\n",
      "韩立虽然不全明白三叔所说的话，但可以进城能挣大钱还是明白的。\n",
      "一直以来的愿望，眼看就有可能实现，他一连好几个晚上兴奋的睡不着觉。\n",
      "三叔在一个多月后，准时的来到村中，要带韩立走了，临走前韩父反复嘱咐韩立，做人要老实，遇事要忍让，别和其他人起争执，而韩母则要他多注意身体，要吃好睡好。\n",
      "在马车上，看着父母渐渐远去的身影，韩立咬紧了嘴唇，强忍着不让自己眼框中的泪珠流出来。\n",
      "他虽然从小就比其他孩子成熟的多，但毕竟还是个十岁的小孩，第一次出远门让他的心里有点伤感和彷徨。他年幼的心里暗暗下定了决心，等挣到了大钱就马上赶回来，和父母再也不分开。\n",
      "韩立从未想到，此次出去后钱财的多少对他已失去了意义，他竟然走上了一条与凡人不同的仙业大道，走出了自己的修仙之路。\n"
     ]
    }
   ],
   "source": [
    "t_list = content.find_all(attrs={\"class\":\"uu_cont\",\"id\":\"contentbox\"})\n",
    "for i,item in enumerate(t_list):\n",
    "    sentences=中文处理器.提取中文段落(str(item))\n",
    "    for s in sentences:\n",
    "        print(s)"
   ],
   "metadata": {
    "collapsed": false,
    "pycharm": {
     "name": "#%% 获取正文\n"
    }
   }
  },
  {
   "cell_type": "code",
   "execution_count": 8,
   "outputs": [
    {
     "name": "stdout",
     "output_type": "stream",
     "text": [
      "https://www.uukanshu.com/b/92/17639.html\n"
     ]
    }
   ],
   "source": [
    "next_page=content.find(class_=\"fanye_cen\")\n",
    "next_page=next_page.find(\"a\",attrs={\"id\":\"next\"})\n",
    "next_page=next_page[\"href\"]\n",
    "print(next_page)"
   ],
   "metadata": {
    "collapsed": false,
    "pycharm": {
     "name": "#%%\n"
    }
   }
  }
 ],
 "metadata": {
  "kernelspec": {
   "display_name": "Python 3",
   "language": "python",
   "name": "python3"
  },
  "language_info": {
   "codemirror_mode": {
    "name": "ipython",
    "version": 2
   },
   "file_extension": ".py",
   "mimetype": "text/x-python",
   "name": "python",
   "nbconvert_exporter": "python",
   "pygments_lexer": "ipython2",
   "version": "2.7.6"
  }
 },
 "nbformat": 4,
 "nbformat_minor": 0
}